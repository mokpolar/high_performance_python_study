{
 "cells": [
  {
   "cell_type": "code",
   "execution_count": 34,
   "metadata": {},
   "outputs": [
    {
     "data": {
      "text/plain": "'memory profile enabled'"
     },
     "execution_count": 34,
     "metadata": {},
     "output_type": "execute_result"
    },
    {
     "name": "stdout",
     "output_type": "stream",
     "text": [
      "In [34] used 0.0000 MiB RAM in 0.10s, peaked 0.00 MiB above current, total RAM usage 177.99 MiB\n"
     ]
    }
   ],
   "source": [
    "# magic command %memit 를 사용하기 위해 필요한 라이브러리, \n",
    "import memory_profiler \n",
    "%load_ext memory_profiler\n",
    "# ipython_memory를 사용하여 cell별로 메모리를 계속 관찰하기 위한 라이브러리. \n",
    "import ipython_memory_usage \n",
    "import ipython_memory_usage.ipython_memory_usage as imu\n",
    "%ipython_memory_usage_start"
   ]
  },
  {
   "cell_type": "markdown",
   "metadata": {},
   "source": [
    "# Chap 5. 이터레이터와 제너레이터"
   ]
  },
  {
   "cell_type": "markdown",
   "metadata": {},
   "source": [
    "### 이 장에서 배울 내용  \n",
    "\n",
    "* 제너레이터에서 메모리를 절약하는 방법  \n",
    "* 제너레이터가 유용한 상황\n",
    "* 복잡한 제너레이터 작업에 itertools를 사용하는 방법\n",
    "* 지연 연산이 효과적인 경우와 그렇지 않은 경우 "
   ]
  },
  {
   "cell_type": "code",
   "execution_count": null,
   "metadata": {},
   "outputs": [],
   "source": [
    "# 파이썬의 for loop\n",
    "\n",
    "for i in range(N):\n",
    "    do_work(i)"
   ]
  },
  {
   "cell_type": "code",
   "execution_count": null,
   "metadata": {},
   "outputs": [],
   "source": [
    "# 다른 언어의 for loop\n",
    "for (i=0; i<N; i++) {\n",
    "    do_work(i)\n",
    "}"
   ]
  },
  {
   "cell_type": "markdown",
   "metadata": {},
   "source": [
    "제너레이터 를 사용하면 이런 종류의 함수를 필요할 때마다 지연 계산 lazy evaluation 할 수 있어서  \n",
    "성능 상에 영향을 주지 않고도 높은 가독성을 얻을 수 있다. "
   ]
  },
  {
   "cell_type": "code",
   "execution_count": 26,
   "metadata": {},
   "outputs": [],
   "source": [
    "# 여러 피보나치 수를 계산하는 함수 리스트 VS 제너레이터\n",
    "\n",
    "def fibonacci_list(num_items):\n",
    "    numbers = []\n",
    "    a, b = 0, 1\n",
    "    while len(numbers) < num_items:\n",
    "        numbers.append(a)\n",
    "        a, b = b, a + b\n",
    "    return numbers\n",
    "\n",
    "\n",
    "def fibonacci_gen(num_items):\n",
    "    a, b = 0, 1 \n",
    "    while num_items:\n",
    "        yield a\n",
    "        a, b = b, a + b\n",
    "        num_items -= 1"
   ]
  },
  {
   "cell_type": "markdown",
   "metadata": {},
   "source": [
    "fibonacci list는 원하는 개수의 모든 피보나치 수를 담는 리스트를 생성하도록 구현  \n",
    "1만개면, numbers 리스트에 값을 1만번 추가한 다음 리스트를 반환한다.  -> 부하가 발생한다.  \n",
    "\n",
    "제너레이터는 코드가 yield를 실행하는 순간 이 함수는 그 값을 방출하고 ,   \n",
    "다른 값 요청이 들어오면 이전 상태를 유지한 채로 실행을 재개하여 새로운 값을 방출한다.   \n",
    "\n",
    "### fibonacci_list를 사용한 루프는 메모리를 1만 배 이상 더 사용한다.  "
   ]
  },
  {
   "cell_type": "markdown",
   "metadata": {},
   "source": [
    "파이썬의 for loop 에는 반복할 수 있는 객체가 필요함 = 루프 밖에서 이터레이터를 생성할 수 있어야 함.  \n",
    "파이썬의 대부분의 객체에서 이터레이터를 생성하려면 파이썬의 내장함수 __iter__ffmf tkdyd  -> 리스트, 튜플, 딕셔너리, 셋 에서 사용 가능"
   ]
  },
  {
   "cell_type": "markdown",
   "metadata": {},
   "source": [
    "### 파이썬의 for문은 내부적으로 iterator를 생성하여 동작한다. __iter__ method를 이용하여.   \n",
    "만약 리스트를 순회하는 for문이라면, 해당 리스트의 iterator를 생성하여  __next__ method를 이용해서 순회를 한다.  "
   ]
  },
  {
   "cell_type": "markdown",
   "metadata": {},
   "source": [
    "### ITERABLE, ITERATOR   \n",
    "\n",
    "내부 요소를 하나씩 리턴할 수 있는 객체 : iterable 하다.   ex) for 문을 통해 순회할 수 있는 객체  (시퀀스 타입, 컬렉션 타입)  \n",
    "iterable : __next__ 가 존재 하지 않음  \n",
    "iterator : __next__ 가 존재함"
   ]
  },
  {
   "cell_type": "code",
   "execution_count": 7,
   "metadata": {},
   "outputs": [
    {
     "name": "stdout",
     "output_type": "stream",
     "text": [
      "<class 'list'>\n",
      "<class 'list_iterator'>\n"
     ]
    }
   ],
   "source": [
    "# iterable 객체를 iterator로 만들기\n",
    "a = [1, 2, 3]\n",
    "print(type(a))\n",
    "a = iter(a)\n",
    "print(type(a))"
   ]
  },
  {
   "cell_type": "code",
   "execution_count": 3,
   "metadata": {},
   "outputs": [
    {
     "name": "stdout",
     "output_type": "stream",
     "text": [
      "1\n",
      "2\n",
      "3\n",
      "4\n",
      "5\n"
     ]
    }
   ],
   "source": [
    "for i in iter([1, 2, 3, 4, 5]):\n",
    "    print(i)"
   ]
  },
  {
   "cell_type": "code",
   "execution_count": 4,
   "metadata": {},
   "outputs": [
    {
     "name": "stdout",
     "output_type": "stream",
     "text": [
      "1\n",
      "2\n",
      "3\n",
      "4\n",
      "5\n"
     ]
    }
   ],
   "source": [
    "for i in [1, 2, 3, 4, 5]:\n",
    "    print(i)"
   ]
  },
  {
   "cell_type": "code",
   "execution_count": 9,
   "metadata": {},
   "outputs": [
    {
     "ename": "TypeError",
     "evalue": "'type' object is not iterable",
     "output_type": "error",
     "traceback": [
      "\u001b[0;31m---------------------------------------------------------------------------\u001b[0m",
      "\u001b[0;31mTypeError\u001b[0m                                 Traceback (most recent call last)",
      "\u001b[0;32m<ipython-input-9-b11f4ceb018c>\u001b[0m in \u001b[0;36m<module>\u001b[0;34m\u001b[0m\n\u001b[1;32m      1\u001b[0m \u001b[0;31m# 예제 5-1 파이썬 for 루프 재구성하기\u001b[0m\u001b[0;34m\u001b[0m\u001b[0;34m\u001b[0m\u001b[0;34m\u001b[0m\u001b[0m\n\u001b[1;32m      2\u001b[0m \u001b[0;34m\u001b[0m\u001b[0m\n\u001b[0;32m----> 3\u001b[0;31m \u001b[0;32mfor\u001b[0m \u001b[0mi\u001b[0m \u001b[0;32min\u001b[0m \u001b[0mobject\u001b[0m\u001b[0;34m:\u001b[0m\u001b[0;34m\u001b[0m\u001b[0;34m\u001b[0m\u001b[0m\n\u001b[0m\u001b[1;32m      4\u001b[0m     \u001b[0mdo_work\u001b[0m\u001b[0;34m(\u001b[0m\u001b[0mi\u001b[0m\u001b[0;34m)\u001b[0m\u001b[0;34m\u001b[0m\u001b[0;34m\u001b[0m\u001b[0m\n\u001b[1;32m      5\u001b[0m \u001b[0;34m\u001b[0m\u001b[0m\n",
      "\u001b[0;31mTypeError\u001b[0m: 'type' object is not iterable"
     ]
    }
   ],
   "source": [
    "# 예제 5-1 파이썬 for 루프 재구성하기 \n",
    "\n",
    "for i in object:\n",
    "    do_work(i)\n",
    "\n",
    "\n",
    "object_iterator = iter(object)\n",
    "while True:\n",
    "    try:\n",
    "        i = next(object_iterator)\n",
    "    except StopIteration:\n",
    "        break\n",
    "    else:\n",
    "        do_work(i)"
   ]
  },
  {
   "cell_type": "markdown",
   "metadata": {},
   "source": [
    "fibonacci_gen 을 사용하면 이터레이터로 변형되는 제너레이터를 생성한다.  \n",
    "하지만 fibonacci_list 는 새로운 리스트를 할당하고 값을 미리 계산한 다음에 이터레이터를 생성해야 한다.  \n",
    "\n",
    "### 한 번에 값이 하나만 필요하더라도 fibonacci_list 리스트를 미리 계산하려면 전체 데이터를 저장할 수 있는 공간을 할당하고 올바른 값을 넣어야 함  \n",
    "### fibonacci_list는 사용할 수 있는 용량 보다 더 많은 메모리 할당을 시도해서,  루프 자체를 실행하지 못할 수도 있다.  \n",
    "### fibonacci_list(100_000_000) dms 3.1 GB 크기의 리스트를 생성한다.  "
   ]
  },
  {
   "cell_type": "code",
   "execution_count": 27,
   "metadata": {},
   "outputs": [],
   "source": [
    "def test_fibonacci_list():\n",
    "    \"\"\"\n",
    "    >>> a\n",
    "    \n",
    "    >>> \n",
    "    \"\"\"\n",
    "\n",
    "    for i in fibonacci_list(100_000):\n",
    "        pass"
   ]
  },
  {
   "cell_type": "code",
   "execution_count": 28,
   "metadata": {},
   "outputs": [
    {
     "name": "stdout",
     "output_type": "stream",
     "text": [
      "433 ms ± 12.6 ms per loop (mean ± std. dev. of 7 runs, 1 loop each)\n"
     ]
    }
   ],
   "source": [
    "%timeit test_fibonacci_list()"
   ]
  },
  {
   "cell_type": "code",
   "execution_count": 35,
   "metadata": {},
   "outputs": [
    {
     "name": "stdout",
     "output_type": "stream",
     "text": [
      "peak memory: 503.32 MiB, increment: 325.31 MiB\n",
      "In [35] used 43.1797 MiB RAM in 1.49s, peaked 284.75 MiB above current, total RAM usage 221.17 MiB\n"
     ]
    }
   ],
   "source": [
    "%memit test_fibonacci_list()"
   ]
  },
  {
   "cell_type": "code",
   "execution_count": 30,
   "metadata": {},
   "outputs": [],
   "source": [
    "def test_fibonacci_gen():\n",
    "\n",
    "    for i in fibonacci_gen(100_000):\n",
    "        pass"
   ]
  },
  {
   "cell_type": "code",
   "execution_count": 31,
   "metadata": {},
   "outputs": [
    {
     "name": "stdout",
     "output_type": "stream",
     "text": [
      "129 ms ± 757 µs per loop (mean ± std. dev. of 7 runs, 10 loops each)\n"
     ]
    }
   ],
   "source": [
    "%timeit test_fibonacci_gen()"
   ]
  },
  {
   "cell_type": "code",
   "execution_count": 36,
   "metadata": {},
   "outputs": [
    {
     "name": "stdout",
     "output_type": "stream",
     "text": [
      "peak memory: 205.18 MiB, increment: -7.99 MiB\n",
      "In [36] used -15.9883 MiB RAM in 1.63s, peaked 15.99 MiB above current, total RAM usage 205.18 MiB\n"
     ]
    }
   ],
   "source": [
    "%memit test_fibonacci_gen()"
   ]
  },
  {
   "cell_type": "markdown",
   "metadata": {},
   "source": [
    "제너레이터 버전이 두 배 더 빠르고 메모리도 적게 사용한다.  "
   ]
  },
  {
   "cell_type": "code",
   "execution_count": 37,
   "metadata": {},
   "outputs": [
    {
     "name": "stdout",
     "output_type": "stream",
     "text": [
      "In [37] used 18.7031 MiB RAM in 1.72s, peaked 0.00 MiB above current, total RAM usage 223.88 MiB\n"
     ]
    }
   ],
   "source": [
    "divisible_by_three = len([n for n in fibonacci_gen(100_000) if n% 3 ==0])"
   ]
  },
  {
   "cell_type": "code",
   "execution_count": null,
   "metadata": {},
   "outputs": [],
   "source": []
  }
 ],
 "metadata": {
  "kernelspec": {
   "display_name": "Python 3.8.5 64-bit ('web': conda)",
   "name": "python385jvsc74a57bd0936961605949c8af6a082776a99176412ce25745978a797c3acd398b4d5851fa"
  },
  "language_info": {
   "name": "python",
   "version": ""
  },
  "orig_nbformat": 2
 },
 "nbformat": 4,
 "nbformat_minor": 2
}